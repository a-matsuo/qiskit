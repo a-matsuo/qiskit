{
 "cells": [
  {
   "cell_type": "markdown",
   "metadata": {},
   "source": [
    "# ADMM Optimizer\n",
    "The latest version of this notebook is available on https://github.com/Qiskit/qiskit-iqx-tutorials."
   ]
  },
  {
   "cell_type": "markdown",
   "metadata": {},
   "source": [
    "- Explain what problems this optimizer can solve [Andrea]\n",
    "- Introduce algorithm on high-level and refer to paper [Andrea]\n",
    "- explain that it takes a qubo_optimizer and cts_optimizer [Claudio]\n",
    "- Link to other optimizers (QAOA, Grover, ...) [Claudio]\n",
    "- Show Example"
   ]
  }
 ],
 "metadata": {
  "kernelspec": {
   "display_name": "qiskit112019cpx1210",
   "language": "python",
   "name": "qiskit112019cpx1210"
  },
  "language_info": {
   "codemirror_mode": {
    "name": "ipython",
    "version": 3
   },
   "file_extension": ".py",
   "mimetype": "text/x-python",
   "name": "python",
   "nbconvert_exporter": "python",
   "pygments_lexer": "ipython3",
   "version": "3.6.10"
  }
 },
 "nbformat": 4,
 "nbformat_minor": 2
}
