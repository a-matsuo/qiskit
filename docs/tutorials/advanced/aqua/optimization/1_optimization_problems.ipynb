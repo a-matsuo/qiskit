{
 "cells": [
  {
   "cell_type": "markdown",
   "metadata": {},
   "source": [
    "# Quadratically Constrained Quadratic Programs\n",
    "The latest version of this notebook is available on https://github.com/Qiskit/qiskit-iqx-tutorials."
   ]
  },
  {
   "cell_type": "markdown",
   "metadata": {},
   "source": [
    "- Introduce Quadratic Programs\n",
    "    - Mathematical model (incl. constraints) + variable types<br>\n",
    "    https://en.wikipedia.org/wiki/Quadratically_constrained_quadratic_program\n",
    "    - How to build it with docplex (brief example)\n",
    "    - How to build the same with the QuadraticProgram\n",
    "- Introduce Converters <br>(except \"to operator\" and \"to neg. val. oracle\", those should be introduced with the algorithms)\n",
    "    - Integer to Binary Converter\n",
    "    - Penalize Equality Constraints\n",
    "    - ...\n",
    "- Example:\n",
    "    - build a model in docplex with integer variables and constraints, cast to QUBO. \n",
    "    - introduce convenience converter \"to_qubo\"..."
   ]
  },
  {
   "cell_type": "markdown",
   "metadata": {},
   "source": [
    "### Converters for `QuadraticProgram`\n",
    "To solve an optimization prbolem with quantum computer, a corresponding Ising Hamiltonian for the optimization problem is needed to be created. To do so, firstly, it's necessary to convert it into with a specific form, more precisely Unconstrained Binary Optimization form. For that purpose, Qiskit has three converters. They are `InequalityToEqualityConverter`, `IntegerToBinaryConverter`  and `PenalizeLinearEqualityConstraints`.With these converters, optimization problems can be easily and automatically converted into one with a specific form to solve quantum computers. The following is a list of three converters. The details of each converter will be discussed later with examples.\n",
    "- `InequalityToEqualityConverter`: converts inequality constraints into equality constraints with additional slack variables.\n",
    "- `IntegerToBinaryConverter`: converts integer variables into binary variables and corresponding coefficients. \n",
    "- `PenalizeLinearEqualityConstraints`: convert equality constraints into additional terms of the object function."
   ]
  },
  {
   "cell_type": "markdown",
   "metadata": {},
   "source": [
    "#### `InequalityToEqualityConverter`\n",
    "`InequalityToEqualityConverter` converts inequality constraints into equality constraints with additional slack variables to remove inequality constraints from `QuadraticProgram`. The upper bounds and the lower bounds of slack variables will be calculated from the difference between the left sides and the right sides of constraints. Signs of slack variables depend on symbols in constraints such as $\\leq$ and $\\geq$.\n",
    "\n",
    "##### A usage example of `InequalityToEqualityConverter`\n",
    "The following is a toy example of a maximization problem with an inequality constraint. Variable $x$ and $y$ are binary variables. variable $z$ is an integer variable.\n",
    "\n",
    "\\begin{aligned}\n",
    "   & \\text{maximize}\n",
    "       & 2x + y + z\\\\\n",
    "   & \\text{subject to}\n",
    "       & x+y+z \\leq 5\\\\\n",
    "       & & x, y \\in \\{0,1\\}\\\\\n",
    "       & & z \\in \\{0,1,2,3,4,5,6,7\\} \\\\\n",
    "\\end{aligned}\n",
    "\n",
    "With `QuadraticProgram`, an optimization model of the problem is written as follows."
   ]
  },
  {
   "cell_type": "code",
   "execution_count": 8,
   "metadata": {},
   "outputs": [
    {
     "name": "stdout",
     "output_type": "stream",
     "text": [
      "\\ENCODING=ISO-8859-1\n",
      "\\Problem name: \n",
      "\n",
      "Maximize\n",
      " Objective: 2 x + y + z\n",
      "Subject To\n",
      " xyz: x + y + z <= 5\n",
      "Bounds\n",
      " 0 <= x <= 1\n",
      " 0 <= y <= 1\n",
      " 0 <= z <= 7\n",
      "Binaries\n",
      " x  y \n",
      "Generals\n",
      " z \n",
      "End\n",
      "\n"
     ]
    }
   ],
   "source": [
    "op = OptimizationProblem()\n",
    "op.variables.add(names=['x', 'y', 'z'], types='BBI', lb=[0, 0, 0], ub=[1, 1, 7])\n",
    "op.objective.set_linear([('x', 2),('y', 1),('z', 1)])\n",
    "op.linear_constraints.add(\n",
    "    lin_expr=[SparsePair(ind=['x', 'y', 'z'], val=[1, 1, 1])],\n",
    "    senses=['L'],\n",
    "    rhs=[5],\n",
    "    names=['xyz']\n",
    ")\n",
    "op.objective.set_sense(-1)\n",
    "print(op.write_as_string())"
   ]
  },
  {
   "cell_type": "markdown",
   "metadata": {},
   "source": [
    "Call `encode` method of `InequalityToEqualityConverter` to convert."
   ]
  },
  {
   "cell_type": "code",
   "execution_count": 9,
   "metadata": {},
   "outputs": [
    {
     "name": "stdout",
     "output_type": "stream",
     "text": [
      "\\ENCODING=ISO-8859-1\n",
      "\\Problem name: \n",
      "\n",
      "Maximize\n",
      " Objective: 2 x + y + z\n",
      "Subject To\n",
      " xyz: x + y + z + xyz@int_slack  = 5\n",
      "Bounds\n",
      " 0 <= x <= 1\n",
      " 0 <= y <= Inf\n",
      " 0 <= z <= 7\n",
      " 0 <= xyz@int_slack <= 5\n",
      "Binaries\n",
      " x  y \n",
      "Generals\n",
      " z  xyz@int_slack \n",
      "End\n",
      "\n"
     ]
    }
   ],
   "source": [
    "from qiskit.optimization.converters import InequalityToEqualityConverter\n",
    "ineq2eq_conv = InequalityToEqualityConverter()\n",
    "new_op = ineq2eq_conv.encode(op)\n",
    "print(new_op.write_as_string())"
   ]
  },
  {
   "cell_type": "markdown",
   "metadata": {},
   "source": [
    "After converting, the inequality constraint is replaced with an equality constraint with an additional slack variable as the above. "
   ]
  },
  {
   "cell_type": "markdown",
   "metadata": {},
   "source": [
    "#### `IntegerToBinaryConverter`"
   ]
  },
  {
   "cell_type": "markdown",
   "metadata": {},
   "source": [
    "`IntegerToBinaryConverter` converts integer variables into binary variables and coefficients to remove integer variables from `QuadraticProgram`. For converting, bounded-coefficient encoding proposed in arxiv:1706.01945 (Eq. (5)) is used. For more detail of the encoding method, please see the paper.\n",
    "\n",
    "##### A usage example of `IntegerToBinaryConverter`\n",
    "The following is a toy example of a maximization problem with an integer variable. The following example is also the output of the above `InequalityToEqualityConverter` example. Variable $x$, $y$ and xyz@int_slack are binary variables. variable $z$ is an integer variable.\n",
    "\n",
    "\\begin{aligned}\n",
    "   & \\text{maximize}\n",
    "       & 2x + y + z\\\\\n",
    "   & \\text{subject to}\n",
    "       & x+y+z +xyz@int\\_slack= 5\\\\\n",
    "       & & x, y  \\in \\{0,1\\}\\\\\n",
    "       & & z \\in \\{0,1,2,3,4,5,6,7\\} \\\\\n",
    "       & & xyz@int\\_slack \\in \\{0,1,2,3,4,5\\} \\\\\n",
    "\\end{aligned}\n",
    "\n",
    "With `QuadraticProgram`, an optimization model of the problem is written as follows."
   ]
  },
  {
   "cell_type": "code",
   "execution_count": 11,
   "metadata": {},
   "outputs": [
    {
     "name": "stdout",
     "output_type": "stream",
     "text": [
      "\\ENCODING=ISO-8859-1\n",
      "\\Problem name: \n",
      "\n",
      "Maximize\n",
      " Objective: 2 x + y + z\n",
      "Subject To\n",
      " xyz: x + y + z + xyz@int_slack  = 5\n",
      "Bounds\n",
      " 0 <= x <= 1\n",
      " 0 <= y <= 1\n",
      " 0 <= z <= 7\n",
      " 0 <= xyz@int_slack <= 5\n",
      "Binaries\n",
      " x  y \n",
      "Generals\n",
      " z  xyz@int_slack \n",
      "End\n",
      "\n"
     ]
    }
   ],
   "source": [
    "op = OptimizationProblem()\n",
    "op.variables.add(names=['x', 'y', 'z','xyz@int_slack'], types='BBII', lb=[0, 0, 0, 0], ub=[1, 1, 7, 5])\n",
    "op.objective.set_linear([('x', 2),('y', 1),('z', 1)])\n",
    "op.linear_constraints.add(\n",
    "    lin_expr=[SparsePair(ind=['x', 'y', 'z', 'xyz@int_slack'], val=[1, 1, 1, 1])],\n",
    "    senses=['E'],\n",
    "    rhs=[5],\n",
    "    names=['xyz']\n",
    ")\n",
    "op.objective.set_sense(-1)\n",
    "print(op.write_as_string())"
   ]
  },
  {
   "cell_type": "markdown",
   "metadata": {},
   "source": [
    "Call `encode` method of `IntegerToBinaryConverter` to convert."
   ]
  },
  {
   "cell_type": "code",
   "execution_count": 12,
   "metadata": {},
   "outputs": [
    {
     "name": "stdout",
     "output_type": "stream",
     "text": [
      "\\ENCODING=ISO-8859-1\n",
      "\\Problem name: \n",
      "\n",
      "Maximize\n",
      " Objective: 2 x + y + z@0 + 2 z@1 + 4 z@2\n",
      "Subject To\n",
      " xyz: x + y + z@0 + 2 z@1 + 4 z@2 + xyz@int_slack@0 + 2 xyz@int_slack@1\n",
      "      + 2 xyz@int_slack@2  = 5\n",
      "Bounds\n",
      " 0 <= x <= 1\n",
      " 0 <= y <= 1\n",
      " 0 <= z@0 <= 1\n",
      " 0 <= z@1 <= Inf\n",
      " 0 <= z@2 <= Inf\n",
      " 0 <= xyz@int_slack@0 <= Inf\n",
      " 0 <= xyz@int_slack@1 <= Inf\n",
      " 0 <= xyz@int_slack@2 <= Inf\n",
      "Binaries\n",
      " x  y  z@0  z@1  z@2  xyz@int_slack@0  xyz@int_slack@1  xyz@int_slack@2 \n",
      "End\n",
      "\n"
     ]
    }
   ],
   "source": [
    "from qiskit.optimization.converters import IntegerToBinaryConverter\n",
    "int2bin_conv = IntegerToBinaryConverter()\n",
    "new_op = int2bin_conv.encode(op)\n",
    "print(new_op.write_as_string())"
   ]
  },
  {
   "cell_type": "markdown",
   "metadata": {},
   "source": [
    "After converting, integer variables $z$ is replaced with three binary variables $z@0$, $z@1$ and $z@2$ with coefficients 1, 2 and 4, respectively as the above. The slack variable $xyz@int_slack$ that was introduced by `InequalityToEqualityConverter` is also replaced with $xyz@int_slack@0$, $xyz@int_slack@1$ and $xyz@int_slack@2$ with coefficients 1, 2 and 2 respectively. \n",
    "\n",
    "Note: Essentially coefficients mean that the sum of these binary variables with coefficients can be the sum of a subset of {1, 2, 4}  for the case of variable $z$ which will a number from 0 to 7. This respects the lower bound and the upper bound of original integer variable $z$ correctly. The basic concept is similar for the case of variable $xyz@intslack$."
   ]
  },
  {
   "cell_type": "markdown",
   "metadata": {},
   "source": [
    "#### `PenalizeLinearEqualityConstraints`"
   ]
  },
  {
   "cell_type": "markdown",
   "metadata": {},
   "source": [
    "`PenalizeLinearEqualityConstraints` converts equality constraints into additional terms of the object function to make `QuadraticProgram` to unconstrained form. An input to the convert has to be a `QuadraticProgram` with only equality constraints. Those equality constraints, e.g. $\\sum_i a_i x_i  = b$ where $a_i$ and $b$ are numbers and $x_i$ is a variable, will be added to the objective function in the form of $M(b - \\sum_i a_i x_i)^2$ where $M$ is a large number as penalty factor. By default it's 1e5. A sign of the term will depends on the problem type is maximization or minimization.\n",
    "\n",
    "##### A usage example of `PenalizeLinearEqualityConstraints`\n",
    "The following is a toy example of a maximization problem with equality constraints. The following example is also the output of the above `IntegerToBinaryConverter` example. The all variables are binary variables now. \n",
    "\n",
    "\\begin{aligned}\n",
    "   & \\text{maximize}\n",
    "       & 2x + y + z@0 + 2 z@1 + 4 z@2\\\\\n",
    "   & \\text{subject to}\n",
    "       & x + y+ z@0 + 2 z@1 + 4 z@2 + xyz@int\\_slack@0 +2 xyz@int\\_slack@1 + 2 xyz@int\\_slack@2 = 5\\\\\n",
    "       & & x, y, z@0 + z@1 + z@2 + xyz@int\\_slack@0 + xyz@int\\_slack@1 + xyz@int\\_slack@2 \\in \\{0,1\\}\\\\\n",
    "\\end{aligned}\n",
    "\n",
    "With `QuadraticProgram`, an optimization model of the problem is written as follows."
   ]
  },
  {
   "cell_type": "code",
   "execution_count": 13,
   "metadata": {},
   "outputs": [
    {
     "name": "stdout",
     "output_type": "stream",
     "text": [
      "\\ENCODING=ISO-8859-1\n",
      "\\Problem name: \n",
      "\n",
      "Maximize\n",
      " Objective: 2 x + y + z@0 + 2 z@1 + 4 z@2\n",
      "Subject To\n",
      " xyz: x + y + z@0 + 2 z@1 + 4 z@2 + xyz@int_slack@0 + 2 xyz@int_slack@1\n",
      "      + 2 xyz@int_slack@2  = 5\n",
      "Bounds\n",
      " 0 <= x <= 1\n",
      " 0 <= y <= 1\n",
      " 0 <= z@0 <= 1\n",
      " 0 <= z@1 <= 1\n",
      " 0 <= z@2 <= 1\n",
      " 0 <= xyz@int_slack@0 <= 1\n",
      " 0 <= xyz@int_slack@1 <= 1\n",
      " 0 <= xyz@int_slack@2 <= 1\n",
      "Binaries\n",
      " x  y  z@0  z@1  z@2  xyz@int_slack@0  xyz@int_slack@1  xyz@int_slack@2 \n",
      "End\n",
      "\n"
     ]
    }
   ],
   "source": [
    "op = OptimizationProblem()\n",
    "op.variables.add(names=['x', 'y', 'z@0', 'z@1', 'z@2', 'xyz@int_slack@0', 'xyz@int_slack@1', 'xyz@int_slack@2'], types='B' *8)\n",
    "op.objective.set_linear([('x', 2),('y', 1),('z@0', 1), ('z@1', 2), ('z@2', 4)])\n",
    "op.linear_constraints.add(\n",
    "    lin_expr=[SparsePair(ind=['x', 'y', 'z@0', 'z@1','z@2', 'xyz@int_slack@0', 'xyz@int_slack@1', 'xyz@int_slack@2'], val=[1, 1, 1, 2, 4, 1, 2, 2])],\n",
    "    senses=['E'],\n",
    "    rhs=[5],\n",
    "    names=['xyz']\n",
    ")\n",
    "op.objective.set_sense(-1)\n",
    "print(op.write_as_string())"
   ]
  },
  {
   "cell_type": "markdown",
   "metadata": {},
   "source": [
    "Call encode method of `PenalizeLinearEqualityConstraints` to convert."
   ]
  },
  {
   "cell_type": "code",
   "execution_count": 14,
   "metadata": {},
   "outputs": [
    {
     "name": "stderr",
     "output_type": "stream",
     "text": [
      "Default row names c1, c2 ... being created.\n"
     ]
    },
    {
     "name": "stdout",
     "output_type": "stream",
     "text": [
      "\\ENCODING=ISO-8859-1\n",
      "\\Problem name: \n",
      "\n",
      "Maximize\n",
      " Objective: 1000002 x + 1000001 y + 1000001 z@0 + 2000002 z@1 + 4000004 z@2\n",
      "            + 1000000 xyz@int_slack@0 + 2000000 xyz@int_slack@1\n",
      "            + 2000000 xyz@int_slack@2 + [ - 200000 x ^2 - 400000 x * y\n",
      "            - 400000 x * z@0 - 800000 x * z@1 - 1600000 x * z@2\n",
      "            - 400000 x * xyz@int_slack@0 - 800000 x * xyz@int_slack@1\n",
      "            - 800000 x * xyz@int_slack@2 - 200000 y ^2 - 400000 y * z@0\n",
      "            - 800000 y * z@1 - 1600000 y * z@2 - 400000 y * xyz@int_slack@0\n",
      "            - 800000 y * xyz@int_slack@1 - 800000 y * xyz@int_slack@2\n",
      "            - 200000 z@0 ^2 - 800000 z@0 * z@1 - 1600000 z@0 * z@2\n",
      "            - 400000 z@0 * xyz@int_slack@0 - 800000 z@0 * xyz@int_slack@1\n",
      "            - 800000 z@0 * xyz@int_slack@2 - 800000 z@1 ^2 - 3200000 z@1 * z@2\n",
      "            - 800000 z@1 * xyz@int_slack@0 - 1600000 z@1 * xyz@int_slack@1\n",
      "            - 1600000 z@1 * xyz@int_slack@2 - 3200000 z@2 ^2\n",
      "            - 1600000 z@2 * xyz@int_slack@0 - 3200000 z@2 * xyz@int_slack@1\n",
      "            - 3200000 z@2 * xyz@int_slack@2 - 200000 xyz@int_slack@0 ^2\n",
      "            - 800000 xyz@int_slack@0 * xyz@int_slack@1\n",
      "            - 800000 xyz@int_slack@0 * xyz@int_slack@2\n",
      "            - 800000 xyz@int_slack@1 ^2\n",
      "            - 1600000 xyz@int_slack@1 * xyz@int_slack@2\n",
      "            - 800000 xyz@int_slack@2 ^2 ] / 2 - 2500000\n",
      "Bounds\n",
      " 0 <= x <= 1\n",
      " 0 <= y <= 1\n",
      " 0 <= z@0 <= 1\n",
      " 0 <= z@1 <= 1\n",
      " 0 <= z@2 <= 1\n",
      " 0 <= xyz@int_slack@0 <= 1\n",
      " 0 <= xyz@int_slack@1 <= 1\n",
      " 0 <= xyz@int_slack@2 <= 1\n",
      "Binaries\n",
      " x  y  z@0  z@1  z@2  xyz@int_slack@0  xyz@int_slack@1  xyz@int_slack@2 \n",
      "End\n",
      "\n"
     ]
    }
   ],
   "source": [
    "from qiskit.optimization.converters import PenalizeLinearEqualityConstraints\n",
    "penilize_conv = PenalizeLinearEqualityConstraints()\n",
    "new_op = penilize_conv.encode(op)\n",
    "print(new_op.write_as_string())"
   ]
  },
  {
   "cell_type": "markdown",
   "metadata": {},
   "source": [
    "After converting the equality constraint is added to the objective function as additional terms with the default penalty factor 1e5."
   ]
  },
  {
   "cell_type": "markdown",
   "metadata": {},
   "source": [
    "#### Checking the answer of the converted `QuadraticProgram`"
   ]
  },
  {
   "cell_type": "markdown",
   "metadata": {},
   "source": [
    "In the end, let's check the answer of the converted `QuadraticProgram` is the same as the original one. "
   ]
  },
  {
   "cell_type": "code",
   "execution_count": 23,
   "metadata": {},
   "outputs": [
    {
     "name": "stdout",
     "output_type": "stream",
     "text": [
      "Version identifier: 12.10.0.0 | 2019-11-27 | 843d4de\n",
      "CPXPARAM_Read_DataCheck                          1\n",
      "Found incumbent of value -2500000.000000 after 0.00 sec. (0.00 ticks)\n",
      "Tried aggregator 1 time.\n",
      "MIP Presolve added 56 rows and 28 columns.\n",
      "Reduced MIP has 56 rows, 36 columns, and 112 nonzeros.\n",
      "Reduced MIP has 36 binaries, 0 generals, 0 SOSs, and 0 indicators.\n",
      "Presolve time = 0.02 sec. (0.01 ticks)\n",
      "Probing time = 0.00 sec. (0.01 ticks)\n",
      "Tried aggregator 1 time.\n",
      "Detecting symmetries...\n",
      "MIP Presolve eliminated 28 rows and 2 columns.\n",
      "Reduced MIP has 28 rows, 34 columns, and 82 nonzeros.\n",
      "Reduced MIP has 34 binaries, 0 generals, 0 SOSs, and 0 indicators.\n",
      "Presolve time = 0.02 sec. (0.09 ticks)\n",
      "Classifier predicts products in MIQP should be linearized.\n",
      "Probing time = 0.00 sec. (0.01 ticks)\n",
      "Clique table members: 2.\n",
      "MIP emphasis: balance optimality and feasibility.\n",
      "MIP search method: dynamic search.\n",
      "Parallel mode: deterministic, using up to 4 threads.\n",
      "Root relaxation solution time = 0.00 sec. (0.04 ticks)\n",
      "\n",
      "        Nodes                                         Cuts/\n",
      "   Node  Left     Objective  IInf  Best Integer    Best Bound    ItCnt     Gap\n",
      "\n",
      "*     0+    0                     -2500000.0000  8300010.0000           432.00%\n",
      "*     0+    0                            6.0000  8300010.0000              --- \n",
      "      0     0  2900005.0000     8        6.0000  2900005.0000       18     --- \n",
      "      0     0  1750005.0000     8        6.0000      Cuts: 16       35     --- \n",
      "      0     0  1500005.0000     8        6.0000      Cuts: 11       40     --- \n",
      "      0     0  1300005.0000     8        6.0000   ZeroHalf: 7       47     --- \n",
      "      0     0  1233337.3333     8        6.0000   ZeroHalf: 8       51     --- \n",
      "      0     0   877781.5556     8        6.0000  ZeroHalf: 12       68     --- \n",
      "      0     0   850004.0000     8        6.0000   ZeroHalf: 9       74     --- \n",
      "      0     0   600005.0000     8        6.0000  ZeroHalf: 13       90     --- \n",
      "      0     0   566670.3333     8        6.0000   ZeroHalf: 9       99     --- \n",
      "      0     0   533337.0000     8        6.0000  ZeroHalf: 10      102     --- \n",
      "      0     0   471432.1429     8        6.0000   ZeroHalf: 9      112     --- \n",
      "      0     0   442860.4286     8        6.0000   ZeroHalf: 7      118     --- \n",
      "      0     0   333336.6667     8        6.0000       Cuts: 9      133     --- \n",
      "      0     0   325003.7500     8        6.0000       Cuts: 8      140     --- \n",
      "      0     0   320004.1000     8        6.0000   ZeroHalf: 3      146     --- \n",
      "      0     0   300004.0000     8        6.0000   ZeroHalf: 3      151     --- \n",
      "      0     0   280003.7000     8        6.0000   ZeroHalf: 8      164     --- \n",
      "      0     0   266670.6667     8        6.0000   ZeroHalf: 4      171     --- \n",
      "      0     0   250005.0000     8        6.0000   ZeroHalf: 7      176     --- \n",
      "      0     0   250004.4000     8        6.0000       Cuts: 7      180     --- \n",
      "      0     0   228575.5714     8        6.0000   ZeroHalf: 6      197     --- \n",
      "      0     0   211115.2222     8        6.0000  ZeroHalf: 12      208     --- \n",
      "      0     0   200004.3019     8        6.0000   ZeroHalf: 9      221     --- \n",
      "      0     0   183336.5000     8        6.0000   ZeroHalf: 5      229     --- \n",
      "      0     0   173336.0000     8        6.0000   ZeroHalf: 4      236     --- \n",
      "      0     0   150005.3636     8        6.0000   ZeroHalf: 2      253     --- \n",
      "      0     0   150004.8750     8        6.0000   ZeroHalf: 8      268     --- \n",
      "      0     0        cutoff              6.0000        6.0000      268    0.00%\n",
      "Elapsed time = 0.40 sec. (11.62 ticks, tree = 0.01 MB, solutions = 2)\n",
      "\n",
      "Zero-half cuts applied:  25\n",
      "\n",
      "Root node processing (before b&c):\n",
      "  Real time             =    0.41 sec. (11.62 ticks)\n",
      "Parallel b&c, 4 threads:\n",
      "  Real time             =    0.00 sec. (0.00 ticks)\n",
      "  Sync time (average)   =    0.00 sec.\n",
      "  Wait time (average)   =    0.00 sec.\n",
      "                          ------------\n",
      "Total (root+branch&cut) =    0.41 sec. (11.62 ticks)\n"
     ]
    }
   ],
   "source": [
    "from qiskit.optimization.algorithms import CplexOptimizer\n",
    "cplex = CplexOptimizer() \n",
    "result = cplex.solve(new_op)"
   ]
  },
  {
   "cell_type": "markdown",
   "metadata": {},
   "source": [
    "`decode` method of `IntegerToBInaryConverter` is useful to convert back the answer of converted problem to the corresponding original answer."
   ]
  },
  {
   "cell_type": "code",
   "execution_count": 24,
   "metadata": {},
   "outputs": [
    {
     "name": "stdout",
     "output_type": "stream",
     "text": [
      "([1,1,3,0] / 6.0)\n"
     ]
    }
   ],
   "source": [
    "result = int2bin_conv.decode(result)\n",
    "print(result)"
   ]
  },
  {
   "cell_type": "markdown",
   "metadata": {},
   "source": [
    "The following was the original problem. According to the above answer, the value of objective function is 6. The assignment of variable $x$, $y$ and $z$ are 1, 1, 3, respectively. The assignment satisfy the constraint and the 6 is the maximum number for the objective function as we can easily see.\n",
    "\n",
    "\\begin{aligned}\n",
    "   & \\text{maximize}\n",
    "       & 2x + y + z\\\\\n",
    "   & \\text{subject to}\n",
    "       & x+y+z \\leq 5\\\\\n",
    "       & & x, y \\in \\{0,1\\}\\\\\n",
    "       & & z \\in \\{0,1,2,3,4,5,6,7\\} \\\\\n",
    "\\end{aligned}"
   ]
  },
  {
   "cell_type": "markdown",
   "metadata": {},
   "source": [
    "#### `OptimizationProblemToQubo` converter"
   ]
  },
  {
   "cell_type": "markdown",
   "metadata": {},
   "source": [
    "We also have `OptimizationProblemToQubo` converter. It contains the functionality of two converters `IntegerToBinaryConverter` and `PenalizeLinearEqualityConstraints` in one for more convenience. It does not contain the functionality of `InequalityToEqualityConverter`.\n",
    "\n",
    "##### A usage example of `PenalizeLinearEqualityConstraints`\n",
    "The following is a toy example of a maximization problem with an integer variable. The following example is also the output of the above `InequalityToEqualityConverter` example . Variable $x$, $y$ and xyz@int_slack are binary variables. variable $z$ is an integer variable."
   ]
  },
  {
   "cell_type": "code",
   "execution_count": 25,
   "metadata": {},
   "outputs": [
    {
     "name": "stdout",
     "output_type": "stream",
     "text": [
      "\\ENCODING=ISO-8859-1\n",
      "\\Problem name: \n",
      "\n",
      "Maximize\n",
      " Objective: 2 x + y + z\n",
      "Subject To\n",
      " xyz: x + y + z + xyz@int_slack  = 5\n",
      "Bounds\n",
      " 0 <= x <= 1\n",
      " 0 <= y <= 1\n",
      " 0 <= z <= 7\n",
      " 0 <= xyz@int_slack <= 5\n",
      "Binaries\n",
      " x  y \n",
      "Generals\n",
      " z  xyz@int_slack \n",
      "End\n",
      "\n"
     ]
    }
   ],
   "source": [
    "op = OptimizationProblem()\n",
    "op.variables.add(names=['x', 'y', 'z','xyz@int_slack'], types='BBII', lb=[0, 0, 0, 0], ub=[1, 1, 7, 5])\n",
    "op.objective.set_linear([('x', 2),('y', 1),('z', 1)])\n",
    "op.linear_constraints.add(\n",
    "    lin_expr=[SparsePair(ind=['x', 'y', 'z', 'xyz@int_slack'], val=[1, 1, 1, 1])],\n",
    "    senses=['E'],\n",
    "    rhs=[5],\n",
    "    names=['xyz']\n",
    ")\n",
    "op.objective.set_sense(-1)\n",
    "print(op.write_as_string())"
   ]
  },
  {
   "cell_type": "markdown",
   "metadata": {},
   "source": [
    "Call `encode` method of `OptimizationProblemToQubo` to convert in a similar manner as other converters."
   ]
  },
  {
   "cell_type": "code",
   "execution_count": 30,
   "metadata": {},
   "outputs": [
    {
     "name": "stderr",
     "output_type": "stream",
     "text": [
      "Default row names c1, c2 ... being created.\n"
     ]
    },
    {
     "name": "stdout",
     "output_type": "stream",
     "text": [
      "\\ENCODING=ISO-8859-1\n",
      "\\Problem name: \n",
      "\n",
      "Maximize\n",
      " Objective: 1000002 x + 1000001 y + 1000001 z@0 + 2000002 z@1 + 4000004 z@2\n",
      "            + 1000000 xyz@int_slack@0 + 2000000 xyz@int_slack@1\n",
      "            + 2000000 xyz@int_slack@2 + [ - 200000 x ^2 - 400000 x * y\n",
      "            - 400000 x * z@0 - 800000 x * z@1 - 1600000 x * z@2\n",
      "            - 400000 x * xyz@int_slack@0 - 800000 x * xyz@int_slack@1\n",
      "            - 800000 x * xyz@int_slack@2 - 200000 y ^2 - 400000 y * z@0\n",
      "            - 800000 y * z@1 - 1600000 y * z@2 - 400000 y * xyz@int_slack@0\n",
      "            - 800000 y * xyz@int_slack@1 - 800000 y * xyz@int_slack@2\n",
      "            - 200000 z@0 ^2 - 800000 z@0 * z@1 - 1600000 z@0 * z@2\n",
      "            - 400000 z@0 * xyz@int_slack@0 - 800000 z@0 * xyz@int_slack@1\n",
      "            - 800000 z@0 * xyz@int_slack@2 - 800000 z@1 ^2 - 3200000 z@1 * z@2\n",
      "            - 800000 z@1 * xyz@int_slack@0 - 1600000 z@1 * xyz@int_slack@1\n",
      "            - 1600000 z@1 * xyz@int_slack@2 - 3200000 z@2 ^2\n",
      "            - 1600000 z@2 * xyz@int_slack@0 - 3200000 z@2 * xyz@int_slack@1\n",
      "            - 3200000 z@2 * xyz@int_slack@2 - 200000 xyz@int_slack@0 ^2\n",
      "            - 800000 xyz@int_slack@0 * xyz@int_slack@1\n",
      "            - 800000 xyz@int_slack@0 * xyz@int_slack@2\n",
      "            - 800000 xyz@int_slack@1 ^2\n",
      "            - 1600000 xyz@int_slack@1 * xyz@int_slack@2\n",
      "            - 800000 xyz@int_slack@2 ^2 ] / 2 - 2500000\n",
      "Bounds\n",
      " 0 <= x <= 1\n",
      " 0 <= y <= 1\n",
      " 0 <= z@0 <= 1\n",
      " 0 <= z@1 <= 1\n",
      " 0 <= z@2 <= 1\n",
      " 0 <= xyz@int_slack@0 <= 1\n",
      " 0 <= xyz@int_slack@1 <= 1\n",
      " 0 <= xyz@int_slack@2 <= 1\n",
      "Binaries\n",
      " x  y  z@0  z@1  z@2  xyz@int_slack@0  xyz@int_slack@1  xyz@int_slack@2 \n",
      "End\n",
      "\n"
     ]
    }
   ],
   "source": [
    "from qiskit.optimization.converters import OptimizationProblemToQubo\n",
    "qubo_conv = OptimizationProblemToQubo()\n",
    "new_op = qubo_conv.encode(op)\n",
    "print(new_op.write_as_string())"
   ]
  },
  {
   "cell_type": "markdown",
   "metadata": {},
   "source": [
    "`OptimizationProblemToQubo` converter also has `decode` method to convert back the answer of the converted problem to the corresponding original answer."
   ]
  },
  {
   "cell_type": "code",
   "execution_count": 31,
   "metadata": {},
   "outputs": [
    {
     "name": "stdout",
     "output_type": "stream",
     "text": [
      "Version identifier: 12.10.0.0 | 2019-11-27 | 843d4de\n",
      "CPXPARAM_Read_DataCheck                          1\n",
      "Found incumbent of value -2500000.000000 after 0.00 sec. (0.00 ticks)\n",
      "Tried aggregator 1 time.\n",
      "MIP Presolve added 56 rows and 28 columns.\n",
      "Reduced MIP has 56 rows, 36 columns, and 112 nonzeros.\n",
      "Reduced MIP has 36 binaries, 0 generals, 0 SOSs, and 0 indicators.\n",
      "Presolve time = 0.03 sec. (0.01 ticks)\n",
      "Probing time = 0.00 sec. (0.01 ticks)\n",
      "Tried aggregator 1 time.\n",
      "Detecting symmetries...\n",
      "MIP Presolve eliminated 28 rows and 2 columns.\n",
      "Reduced MIP has 28 rows, 34 columns, and 82 nonzeros.\n",
      "Reduced MIP has 34 binaries, 0 generals, 0 SOSs, and 0 indicators.\n",
      "Presolve time = 0.03 sec. (0.09 ticks)\n",
      "Classifier predicts products in MIQP should be linearized.\n",
      "Probing time = 0.00 sec. (0.01 ticks)\n",
      "Clique table members: 2.\n",
      "MIP emphasis: balance optimality and feasibility.\n",
      "MIP search method: dynamic search.\n",
      "Parallel mode: deterministic, using up to 4 threads.\n",
      "Root relaxation solution time = 0.01 sec. (0.04 ticks)\n",
      "\n",
      "        Nodes                                         Cuts/\n",
      "   Node  Left     Objective  IInf  Best Integer    Best Bound    ItCnt     Gap\n",
      "\n",
      "*     0+    0                     -2500000.0000  8300010.0000           432.00%\n",
      "*     0+    0                            6.0000  8300010.0000              --- \n",
      "      0     0  2900005.0000     8        6.0000  2900005.0000       18     --- \n",
      "      0     0  1750005.0000     8        6.0000      Cuts: 16       35     --- \n",
      "      0     0  1500005.0000     8        6.0000      Cuts: 11       40     --- \n",
      "      0     0  1300005.0000     8        6.0000   ZeroHalf: 7       47     --- \n",
      "      0     0  1233337.3333     8        6.0000   ZeroHalf: 8       51     --- \n",
      "      0     0   877781.5556     8        6.0000  ZeroHalf: 12       68     --- \n",
      "      0     0   850004.0000     8        6.0000   ZeroHalf: 9       74     --- \n",
      "      0     0   600005.0000     8        6.0000  ZeroHalf: 13       90     --- \n",
      "      0     0   566670.3333     8        6.0000   ZeroHalf: 9       99     --- \n",
      "      0     0   533337.0000     8        6.0000  ZeroHalf: 10      102     --- \n",
      "      0     0   471432.1429     8        6.0000   ZeroHalf: 9      112     --- \n",
      "      0     0   442860.4286     8        6.0000   ZeroHalf: 7      118     --- \n",
      "      0     0   333336.6667     8        6.0000       Cuts: 9      133     --- \n",
      "      0     0   325003.7500     8        6.0000       Cuts: 8      140     --- \n",
      "      0     0   320004.1000     8        6.0000   ZeroHalf: 3      146     --- \n",
      "      0     0   300004.0000     8        6.0000   ZeroHalf: 3      151     --- \n",
      "      0     0   280003.7000     8        6.0000   ZeroHalf: 8      164     --- \n",
      "      0     0   266670.6667     8        6.0000   ZeroHalf: 4      171     --- \n",
      "      0     0   250005.0000     8        6.0000   ZeroHalf: 7      176     --- \n",
      "      0     0   250004.4000     8        6.0000       Cuts: 7      180     --- \n",
      "      0     0   228575.5714     8        6.0000   ZeroHalf: 6      197     --- \n",
      "      0     0   211115.2222     8        6.0000  ZeroHalf: 12      208     --- \n",
      "      0     0   200004.3019     8        6.0000   ZeroHalf: 9      221     --- \n",
      "      0     0   183336.5000     8        6.0000   ZeroHalf: 5      229     --- \n",
      "      0     0   173336.0000     8        6.0000   ZeroHalf: 4      236     --- \n",
      "      0     0   150005.3636     8        6.0000   ZeroHalf: 2      253     --- \n",
      "      0     0   150004.8750     8        6.0000   ZeroHalf: 8      268     --- \n",
      "      0     0        cutoff              6.0000        6.0000      268    0.00%\n",
      "Elapsed time = 0.43 sec. (11.62 ticks, tree = 0.01 MB, solutions = 2)\n",
      "\n",
      "Zero-half cuts applied:  25\n",
      "\n",
      "Root node processing (before b&c):\n",
      "  Real time             =    0.44 sec. (11.62 ticks)\n",
      "Parallel b&c, 4 threads:\n",
      "  Real time             =    0.00 sec. (0.00 ticks)\n",
      "  Sync time (average)   =    0.00 sec.\n",
      "  Wait time (average)   =    0.00 sec.\n",
      "                          ------------\n",
      "Total (root+branch&cut) =    0.44 sec. (11.62 ticks)\n",
      "([1,1,3,0] / 6.0)\n"
     ]
    }
   ],
   "source": [
    "from qiskit.optimization.algorithms import CplexOptimizer\n",
    "cplex = CplexOptimizer() \n",
    "result = cplex.solve(new_op)\n",
    "result = qubo_conv.decode(result)\n",
    "print(result)"
   ]
  },
  {
   "cell_type": "markdown",
   "metadata": {},
   "source": [
    "common import?"
   ]
  },
  {
   "cell_type": "code",
   "execution_count": 1,
   "metadata": {},
   "outputs": [],
   "source": [
    "from qiskit.optimization import OptimizationProblem\n",
    "from cplex import SparsePair"
   ]
  }
 ],
 "metadata": {
  "kernelspec": {
   "display_name": "Python 3",
   "language": "python",
   "name": "python3"
  },
  "language_info": {
   "codemirror_mode": {
    "name": "ipython",
    "version": 3
   },
   "file_extension": ".py",
   "mimetype": "text/x-python",
   "name": "python",
   "nbconvert_exporter": "python",
   "pygments_lexer": "ipython3",
   "version": "3.7.4"
  }
 },
 "nbformat": 4,
 "nbformat_minor": 2
}
