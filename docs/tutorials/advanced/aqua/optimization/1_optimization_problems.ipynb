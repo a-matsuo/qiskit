{
 "cells": [
  {
   "cell_type": "markdown",
   "metadata": {},
   "source": [
    "# Quadratically Constrained Quadratic Programs\n",
    "The latest version of this notebook is available on https://github.com/Qiskit/qiskit-iqx-tutorials."
   ]
  },
  {
   "cell_type": "markdown",
   "metadata": {},
   "source": [
    "- Introduce Quadratic Programs\n",
    "    - Mathematical model (incl. constraints) + variable types<br>\n",
    "    https://en.wikipedia.org/wiki/Quadratically_constrained_quadratic_program\n",
    "    - How to build it with docplex (brief example)\n",
    "    - How to build the same with the QuadraticProgram\n",
    "- Introduce Converters <br>(except \"to operator\" and \"to neg. val. oracle\", those should be introduced with the algorithms)\n",
    "    - Integer to Binary Converter\n",
    "    - Penalize Equality Constraints\n",
    "    - ...\n",
    "- Example:\n",
    "    - build a model in docplex with integer variables and constraints, cast to QUBO. \n",
    "    - introduce convenience converter \"to_qubo\"..."
   ]
  },
  {
   "cell_type": "markdown",
   "metadata": {},
   "source": [
    "### Converters for `QuadraticProgram`\n",
    "To solve an optimization prbolem with quantum computer, a corresponding Ising Hamiltonian for the optimization problem is needed to be created. To do so, firstly, it's necessary to convert it into with a specific form, more precisely Unconstrained Binary Optimization form. For that purpose, Qiskit has three converters. They are `InequalityToEqualityConverter`, `IntegerToBinaryConverter`  and `PenalizeLinearEqualityConstraints`.With these converters, optimization problems can be easily and automatically converted into one with a specific form to solve quantum computers. The following is a list of three converters. The details of each converter will be discussed later with examples.\n",
    "- `InequalityToEqualityConverter`: converts inequality constraints into equality constraints with additional slack variables.\n",
    "- `IntegerToBinaryConverter`: converts integer variables into binary variables and corresponding coefficients. \n",
    "- `PenalizeLinearEqualityConstraints`: convert equality constraints into additional terms of the object function."
   ]
  },
  {
   "cell_type": "markdown",
   "metadata": {},
   "source": [
    "#### `InequalityToEqualityConverter`\n",
    "`InequalityToEqualityConverter` converts inequality constraints into equality constraints with additional slack variables to remove inequality constraints from `QuadraticProgram`. The upper bounds and the lower bounds of slack variables will be calculated from the difference between the left sides and the right sides of constraints. Signs of slack variables depend on symbols in constraints such as $\\leq$ and $\\geq$.\n",
    "\n",
    "##### A usage example of `InequalityToEqualityConverter`\n",
    "The following is a toy example of a maximization problem with an inequality constraint. Variable $x$ and $y$ are binary variables. variable $z$ is an integer variable.\n",
    "\n",
    "\\begin{aligned}\n",
    "   & \\text{maximize}\n",
    "       & 2x + y + z\\\\\n",
    "   & \\text{subject to}\n",
    "       & x+y+z \\leq 5\\\\\n",
    "       & & x, y \\in \\{0,1\\}\\\\\n",
    "       & & z \\in \\{0,1,2,3,4,5\\} \\\\\n",
    "\\end{aligned}\n",
    "\n",
    "With `QuadraticProgram`, an optimization model of the problem is written as follows."
   ]
  },
  {
   "cell_type": "code",
   "execution_count": 8,
   "metadata": {},
   "outputs": [
    {
     "name": "stdout",
     "output_type": "stream",
     "text": [
      "\\ENCODING=ISO-8859-1\n",
      "\\Problem name: \n",
      "\n",
      "Maximize\n",
      " Objective: 2 x + y + z\n",
      "Subject To\n",
      " xyz: x + y + z <= 5\n",
      "Bounds\n",
      " 0 <= x <= 1\n",
      " 0 <= y <= 1\n",
      " 0 <= z <= 5\n",
      "Binaries\n",
      " x  y \n",
      "Generals\n",
      " z \n",
      "End\n",
      "\n"
     ]
    }
   ],
   "source": [
    "op = OptimizationProblem()\n",
    "op.variables.add(names=['x', 'y', 'z'], types='BBI', lb=[0, 0, 0], ub=[1, 1, 5])\n",
    "op.objective.set_linear([('x', 2),('y', 1),('z', 1)])\n",
    "op.linear_constraints.add(\n",
    "    lin_expr=[SparsePair(ind=['x', 'y', 'z'], val=[1, 1, 1])],\n",
    "    senses=['L'],\n",
    "    rhs=[5],\n",
    "    names=['xyz']\n",
    ")\n",
    "op.objective.set_sense(-1)\n",
    "print(op.write_as_string())"
   ]
  },
  {
   "cell_type": "markdown",
   "metadata": {},
   "source": [
    "Call `encode` method of `InequalityToEqualityConverter` to convert."
   ]
  },
  {
   "cell_type": "code",
   "execution_count": 11,
   "metadata": {},
   "outputs": [
    {
     "name": "stdout",
     "output_type": "stream",
     "text": [
      "\\ENCODING=ISO-8859-1\n",
      "\\Problem name: \n",
      "\n",
      "Maximize\n",
      " Objective: 2 x + y + z\n",
      "Subject To\n",
      " xyz: x + y + z + xyz@int_slack  = 5\n",
      "Bounds\n",
      " 0 <= x <= 1\n",
      " 0 <= y <= Inf\n",
      " 0 <= z <= 5\n",
      " 0 <= xyz@int_slack <= 5\n",
      "Binaries\n",
      " x  y \n",
      "Generals\n",
      " z  xyz@int_slack \n",
      "End\n",
      "\n"
     ]
    }
   ],
   "source": [
    "from qiskit.optimization.converters import InequalityToEqualityConverter\n",
    "ineq2eq_conv = InequalityToEqualityConverter()\n",
    "new_op = ineq2eq_conv.encode(op)\n",
    "print(new_op.write_as_string())"
   ]
  },
  {
   "cell_type": "markdown",
   "metadata": {},
   "source": [
    "After converting, the inequality constraint is replaced with an equality constraint with an additional slack variable as the above. "
   ]
  },
  {
   "cell_type": "markdown",
   "metadata": {},
   "source": [
    "#### `IntegerToBinaryConverter`"
   ]
  },
  {
   "cell_type": "markdown",
   "metadata": {},
   "source": [
    "`IntegerToBinaryConverter` converts integer variables into binary variables and coefficients to remove integer variables from `QuadraticProgram`. For converting, bounded-coefficient encoding proposed in arxiv:1706.01945 (Eq. (5)) is used. For more detail of the encoding method, please see the paper.\n",
    "\n",
    "##### A usage example of `IntegerToBinaryConverter`\n",
    "The following is a toy example of a maximization problem with an integer variable. The following example is also the output of the above `InequalityToEqualityConverter` example. Variable $x$, $y$ and xyz@int_slack are binary variables. variable $z$ is an integer variable.\n",
    "\n",
    "\\begin{aligned}\n",
    "   & \\text{maximize}\n",
    "       & 2x + y + z\\\\\n",
    "   & \\text{subject to}\n",
    "       & x+y+z +xyz@int\\_slack= 5\\\\\n",
    "       & & x, y, xyz@int\\_slack \\in \\{0,1\\}\\\\\n",
    "       & & z \\in \\{0,1,2,3,4,5\\} \\\\\n",
    "\\end{aligned}\n",
    "\n",
    "With `QuadraticProgram`, an optimization model of the problem is written as follows."
   ]
  },
  {
   "cell_type": "code",
   "execution_count": 13,
   "metadata": {},
   "outputs": [
    {
     "name": "stdout",
     "output_type": "stream",
     "text": [
      "\\ENCODING=ISO-8859-1\n",
      "\\Problem name: \n",
      "\n",
      "Maximize\n",
      " Objective: 2 x + y + z\n",
      "Subject To\n",
      " xyz: x + y + z + xyz@int_slack  = 5\n",
      "Bounds\n",
      " 0 <= x <= 1\n",
      " 0 <= y <= 1\n",
      " 0 <= z <= 5\n",
      " 0 <= xyz@int_slack <= 1\n",
      "Binaries\n",
      " x  y  xyz@int_slack \n",
      "Generals\n",
      " z \n",
      "End\n",
      "\n"
     ]
    }
   ],
   "source": [
    "op = OptimizationProblem()\n",
    "op.variables.add(names=['x', 'y', 'z','xyz@int_slack'], types='BBIB', lb=[0, 0, 0, 0], ub=[1, 1, 5, 1])\n",
    "op.objective.set_linear([('x', 2),('y', 1),('z', 1)])\n",
    "op.linear_constraints.add(\n",
    "    lin_expr=[SparsePair(ind=['x', 'y', 'z', 'xyz@int_slack'], val=[1, 1, 1, 1])],\n",
    "    senses=['E'],\n",
    "    rhs=[5],\n",
    "    names=['xyz']\n",
    ")\n",
    "op.objective.set_sense(-1)\n",
    "print(op.write_as_string())"
   ]
  },
  {
   "cell_type": "markdown",
   "metadata": {},
   "source": [
    "Call `encode` method of `IntegerToBinaryConverter` to convert."
   ]
  },
  {
   "cell_type": "code",
   "execution_count": 14,
   "metadata": {},
   "outputs": [
    {
     "name": "stdout",
     "output_type": "stream",
     "text": [
      "\\ENCODING=ISO-8859-1\n",
      "\\Problem name: \n",
      "\n",
      "Maximize\n",
      " Objective: 2 x + y + z@0 + 2 z@1 + 2 z@2\n",
      "Subject To\n",
      " xyz: x + y + z@0 + 2 z@1 + 2 z@2 + xyz@int_slack  = 5\n",
      "Bounds\n",
      " 0 <= x <= 1\n",
      " 0 <= y <= 1\n",
      " 0 <= z@0 <= 1\n",
      " 0 <= z@1 <= Inf\n",
      " 0 <= z@2 <= Inf\n",
      " 0 <= xyz@int_slack <= 1\n",
      "Binaries\n",
      " x  y  z@0  z@1  z@2  xyz@int_slack \n",
      "End\n",
      "\n"
     ]
    }
   ],
   "source": [
    "from qiskit.optimization.converters import IntegerToBinaryConverter\n",
    "int2bin_conv = IntegerToBinaryConverter()\n",
    "new_op = int2bin_conv.encode(op)\n",
    "print(new_op.write_as_string())"
   ]
  },
  {
   "cell_type": "markdown",
   "metadata": {},
   "source": [
    "After converting, integer variables $z$ is replaced with three binary variables $z@0$, $z@1$ and $z@2$ with coefficients 1, 2 and 2, respectively as the above. "
   ]
  },
  {
   "cell_type": "markdown",
   "metadata": {},
   "source": [
    "#### `PenalizeLinearEqualityConstraints`"
   ]
  },
  {
   "cell_type": "code",
   "execution_count": null,
   "metadata": {},
   "outputs": [],
   "source": []
  },
  {
   "cell_type": "code",
   "execution_count": null,
   "metadata": {},
   "outputs": [],
   "source": []
  },
  {
   "cell_type": "markdown",
   "metadata": {},
   "source": [
    "Common import?"
   ]
  },
  {
   "cell_type": "code",
   "execution_count": 3,
   "metadata": {},
   "outputs": [],
   "source": [
    "from qiskit.optimization import OptimizationProblem\n",
    "from cplex import SparsePair"
   ]
  },
  {
   "cell_type": "code",
   "execution_count": null,
   "metadata": {},
   "outputs": [],
   "source": []
  }
 ],
 "metadata": {
  "kernelspec": {
   "display_name": "Python 3",
   "language": "python",
   "name": "python3"
  },
  "language_info": {
   "codemirror_mode": {
    "name": "ipython",
    "version": 3
   },
   "file_extension": ".py",
   "mimetype": "text/x-python",
   "name": "python",
   "nbconvert_exporter": "python",
   "pygments_lexer": "ipython3",
   "version": "3.7.4"
  }
 },
 "nbformat": 4,
 "nbformat_minor": 2
}
