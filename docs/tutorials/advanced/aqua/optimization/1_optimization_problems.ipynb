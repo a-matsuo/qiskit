{
 "cells": [
  {
   "cell_type": "markdown",
   "metadata": {},
   "source": [
    "# Quadratically Constrained Quadratic Programs\n",
    "The latest version of this notebook is available on https://github.com/Qiskit/qiskit-iqx-tutorials."
   ]
  },
  {
   "cell_type": "markdown",
   "metadata": {},
   "source": [
    "- Introduce Quadratic Programs\n",
    "    - Mathematical model (incl. constraints) + variable types<br>\n",
    "    https://en.wikipedia.org/wiki/Quadratically_constrained_quadratic_program\n",
    "    - How to build it with docplex (brief example)\n",
    "    - How to build the same with the QuadraticProgram\n",
    "- Example\n",
    "  - How to make an optimization model for some problems"
   ]
  },
  {
   "cell_type": "markdown",
   "metadata": {},
   "source": [
    "The optimization stack of Qiskit Aqua is designed after CPLEX API."
   ]
  },
  {
   "cell_type": "markdown",
   "metadata": {},
   "source": [
    "Aqua optimization stack introduces `QuadraticProgram` class to make a model of an optimization problem.\n",
    "More precicely, it deals with quadratically constrained quadratic program as follows.\n",
    "$$\n",
    "\\begin{align}\n",
    "\\text{minimize}\\quad& \\frac{1}{2} x^\\top Q x + c^\\top x\\\\\n",
    "\\text{subject to}\\quad& A x \\leq b\\\\\n",
    "& x^\\top Q_i x + a_i^\\top x \\leq r_i, \\quad 1,\\dots,i,\\dots,q\\\\\n",
    "& l_i \\leq x_i \\leq u_i, \\quad 1,\\dots,i,\\dots,q,\n",
    "\\end{align}\n",
    "$$\n",
    "where $Q$ of the objective function is a symmetric matrix.\n",
    "\n",
    "`QuadraticProgram` is deisnged after CPLEX API and basically follow the convention of matrices."
   ]
  },
  {
   "cell_type": "markdown",
   "metadata": {},
   "source": [
    "Note that part of `QuadraticProgram` uses CPLEX API, for example, `from_cplex` and `write_as_string`. You need to install `cplex` package beforehand.\n",
    "There are two types of `cplex` package: the [community edition](https://pypi.org/project/cplex/) and the [commercial edition](https://www.ibm.com/analytics/cplex-optimizer).\n",
    "You can install the community edition by `pip install cplex`; but it requires Python 3.6 or 3.7.\n",
    "On the other hand, here is the [instruction to install the commercial edition](https://www.ibm.com/support/knowledgecenter/SSSA5P_12.10.0/ilog.odms.cplex.help/CPLEX/GettingStarted/topics/set_up/setup_overview.html)."
   ]
  },
  {
   "cell_type": "markdown",
   "metadata": {},
   "source": [
    "As setup, you need to import the following module."
   ]
  },
  {
   "cell_type": "code",
   "execution_count": 1,
   "metadata": {},
   "outputs": [],
   "source": [
    "from qiskit.optimization import QuadraticProgram\n",
    "from cplex import SparsePair, SparseTriple"
   ]
  },
  {
   "cell_type": "markdown",
   "metadata": {},
   "source": [
    "You start with a empty model or load a problem from files of particular formats such as LP and MPS.\n",
    "You can set a problem name as you want."
   ]
  },
  {
   "cell_type": "code",
   "execution_count": 2,
   "metadata": {},
   "outputs": [],
   "source": [
    "mod = QuadraticProgram()\n",
    "mod.set_problem_name('my problem')"
   ]
  },
  {
   "cell_type": "markdown",
   "metadata": {},
   "source": [
    "You can display your optimization problem with a method `write_as_string`. The following code shows an empty problem."
   ]
  },
  {
   "cell_type": "code",
   "execution_count": 3,
   "metadata": {},
   "outputs": [
    {
     "name": "stderr",
     "output_type": "stream",
     "text": [
      "Default variable names x1, x2 ... being created.\n",
      "Default row names c1, c2 ... being created.\n"
     ]
    },
    {
     "name": "stdout",
     "output_type": "stream",
     "text": [
      "\\ENCODING=ISO-8859-1\n",
      "\\Problem name: my problem\n",
      "\n",
      "Minimize\n",
      " obj1:\n",
      "End\n",
      "\n"
     ]
    }
   ],
   "source": [
    "print(mod.write_as_string())"
   ]
  },
  {
   "cell_type": "markdown",
   "metadata": {},
   "source": [
    "Aqua optimization stack supports three types of variables:\n",
    "- Binary varible\n",
    "- Integer variable\n",
    "- Continuous variable\n",
    "\n",
    "You can specify nemes, types, lower bounds and upper bounds.\n",
    "The variable types can be specified as 'B' (binary), 'I' (integer), and 'C' (continuous).\n",
    "\n",
    "When you display your problem,\n",
    "`Binaries` denotes binary variables and `Generals` denotes integer variables.\n",
    "If variables are not included in either `Binaries` or `Generals`, such variables are continuous ones.\n",
    "\n",
    "Note that you cannot use 'e' or 'E' as the first character of names due to the [specification of LP format](https://www.ibm.com/support/knowledgecenter/SSSA5P_12.7.1/ilog.odms.cplex.help/CPLEX/FileFormats/topics/LP_VariableNames.html)."
   ]
  },
  {
   "cell_type": "code",
   "execution_count": 4,
   "metadata": {},
   "outputs": [
    {
     "name": "stderr",
     "output_type": "stream",
     "text": [
      "Default row names c1, c2 ... being created.\n"
     ]
    },
    {
     "name": "stdout",
     "output_type": "stream",
     "text": [
      "\\ENCODING=ISO-8859-1\n",
      "\\Problem name: my problem\n",
      "\n",
      "Minimize\n",
      " obj1: 0 x + 0 y + 0 z\n",
      "Bounds\n",
      " 0 <= x <= 1\n",
      "-1 <= y <= 5\n",
      "-1 <= z <= 5\n",
      "Binaries\n",
      " x \n",
      "Generals\n",
      " y \n",
      "End\n",
      "\n"
     ]
    }
   ],
   "source": [
    "# Add variables\n",
    "mod.variables.add(names=['x', 'y', 'z'], types='BIC', lb=[0,-1,-1], ub=[1,5,5])\n",
    "print(mod.write_as_string())"
   ]
  },
  {
   "cell_type": "markdown",
   "metadata": {},
   "source": [
    "You can add either linear or quadratic objective function."
   ]
  },
  {
   "cell_type": "code",
   "execution_count": 5,
   "metadata": {},
   "outputs": [
    {
     "name": "stderr",
     "output_type": "stream",
     "text": [
      "Default row names c1, c2 ... being created.\n"
     ]
    },
    {
     "name": "stdout",
     "output_type": "stream",
     "text": [
      "\\ENCODING=ISO-8859-1\n",
      "\\Problem name: my problem\n",
      "\n",
      "Minimize\n",
      " obj: x - y + 10 z + [ x ^2 - 2 y * z ] / 2\n",
      "Bounds\n",
      " 0 <= x <= 1\n",
      "-1 <= y <= 5\n",
      "-1 <= z <= 5\n",
      "Binaries\n",
      " x \n",
      "Generals\n",
      " y \n",
      "End\n",
      "\n"
     ]
    }
   ],
   "source": [
    "# Add objective function\n",
    "\n",
    "mod.objective.set_name('obj')\n",
    "mod.objective.set_linear([('x', 1), ('y', -1), ('z', 10)])\n",
    "mod.objective.set_quadratic_coefficients([('x', 'x', 1), ('y', 'z', -1)])\n",
    "print(mod.write_as_string())"
   ]
  },
  {
   "cell_type": "markdown",
   "metadata": {},
   "source": [
    "Note that when you set coefficient of quadratic part, the symmetrical part will be set as well.\n",
    "So, if you set `mod.objective.set_quadratic_coefficients('y', 'z', -1)`, it sets `('z', 'y', -1)` as well."
   ]
  },
  {
   "cell_type": "code",
   "execution_count": 6,
   "metadata": {},
   "outputs": [
    {
     "name": "stdout",
     "output_type": "stream",
     "text": [
      "-1.0\n",
      "-1.0\n"
     ]
    }
   ],
   "source": [
    "print(mod.objective.get_quadratic_coefficients('y', 'z'))\n",
    "print(mod.objective.get_quadratic_coefficients('z', 'y'))"
   ]
  },
  {
   "cell_type": "markdown",
   "metadata": {},
   "source": [
    "You can add linear constraints by setting name, linear expression, sense and right-hand-side value (rhs).\n",
    "You need to use `SparsePair` including two lists `ind` and `val` that correspond to a list of variables and coefficients, respectively.\n",
    "For example, `SparsePair(ind=['x', 'y'], val=[1, 2])` denotes `x + 2 * y`.\n",
    "There are three types of senses: 'E', 'G', and 'L' denote 'equal to', 'greater or equal to', and 'less or equal to'. "
   ]
  },
  {
   "cell_type": "code",
   "execution_count": 7,
   "metadata": {},
   "outputs": [
    {
     "name": "stdout",
     "output_type": "stream",
     "text": [
      "\\ENCODING=ISO-8859-1\n",
      "\\Problem name: my problem\n",
      "\n",
      "Minimize\n",
      " obj: x - y + 10 z + [ x ^2 - 2 y * z ] / 2\n",
      "Subject To\n",
      " lin_eq:  x + 2 y  = 1\n",
      " lin_leq: x + 2 y <= 1\n",
      " lin_geq: x + 2 y >= 1\n",
      "Bounds\n",
      " 0 <= x <= 1\n",
      "-1 <= y <= 5\n",
      "-1 <= z <= 5\n",
      "Binaries\n",
      " x \n",
      "Generals\n",
      " y \n",
      "End\n",
      "\n"
     ]
    }
   ],
   "source": [
    "# Add linear constraints one by one\n",
    "mod.linear_constraints.delete()\n",
    "mod.linear_constraints.add(names=['lin_eq'], lin_expr=[SparsePair(['x', 'y'], [1, 2])], senses='E', rhs=[1])\n",
    "mod.linear_constraints.add(names=['lin_leq'], lin_expr=[SparsePair(['x', 'y'], [1, 2])], senses='L', rhs=[1])\n",
    "mod.linear_constraints.add(names=['lin_geq'], lin_expr=[SparsePair(['x', 'y'], [1, 2])], senses='G', rhs=[1])\n",
    "print(mod.write_as_string())"
   ]
  },
  {
   "cell_type": "markdown",
   "metadata": {},
   "source": [
    "You can also add multiple linear constraints at once."
   ]
  },
  {
   "cell_type": "code",
   "execution_count": 8,
   "metadata": {},
   "outputs": [
    {
     "name": "stdout",
     "output_type": "stream",
     "text": [
      "\\ENCODING=ISO-8859-1\n",
      "\\Problem name: my problem\n",
      "\n",
      "Minimize\n",
      " obj: x - y + 10 z + [ x ^2 - 2 y * z ] / 2\n",
      "Subject To\n",
      " lin_eq:  x + 2 y  = 1\n",
      " lin_leq: x + 2 y <= 1\n",
      " lin_geq: x + 2 y >= 1\n",
      "Bounds\n",
      " 0 <= x <= 1\n",
      "-1 <= y <= 5\n",
      "-1 <= z <= 5\n",
      "Binaries\n",
      " x \n",
      "Generals\n",
      " y \n",
      "End\n",
      "\n"
     ]
    }
   ],
   "source": [
    "# Add linear constraints\n",
    "mod.linear_constraints.delete()\n",
    "mod.linear_constraints.add(names=['lin_eq', 'lin_leq', 'lin_geq'], lin_expr=[SparsePair(['x', 'y'], [1, 2]), SparsePair(['x', 'y'], [1, 2]), SparsePair(['x', 'y'], [1, 2])], senses='ELG', rhs=[1,1,1])\n",
    "print(mod.write_as_string())"
   ]
  },
  {
   "cell_type": "markdown",
   "metadata": {},
   "source": [
    "You can add quadratic constraints. You need to use `SparseTriple` for quadratic expression.\n",
    "`SparseTriple` has three lists `ind1`, `ind2`, and `val`. `ind1` and `ind2` denote variables and `val` denotes a coefficient.\n",
    "For example, `SparseTriple(['x', 'y', 'z'], ['x', 'z', 'z'], [1, -1, 2])` represents `x * x - y * z + 2 * z * z`"
   ]
  },
  {
   "cell_type": "code",
   "execution_count": 9,
   "metadata": {},
   "outputs": [
    {
     "name": "stdout",
     "output_type": "stream",
     "text": [
      "\\ENCODING=ISO-8859-1\n",
      "\\Problem name: my problem\n",
      "\n",
      "Minimize\n",
      " obj: x - y + 10 z + [ x ^2 - 2 y * z ] / 2\n",
      "Subject To\n",
      " lin_eq:  x + 2 y  = 1\n",
      " lin_leq: x + 2 y <= 1\n",
      " lin_geq: x + 2 y >= 1\n",
      " quad_eq:  x + y + [ x ^2 - y * z + 2 z ^2 ]  = 1\n",
      " quad_leq: x + y + [ x ^2 - y * z + 2 z ^2 ] <= 1\n",
      " quad_geq: x + y + [ x ^2 - y * z + 2 z ^2 ] >= 1\n",
      "Bounds\n",
      " 0 <= x <= 1\n",
      "-1 <= y <= 5\n",
      "-1 <= z <= 5\n",
      "Binaries\n",
      " x \n",
      "Generals\n",
      " y \n",
      "End\n",
      "\n"
     ]
    }
   ],
   "source": [
    "# Add quadratic constraints\n",
    "mod.quadratic_constraints.delete()\n",
    "mod.quadratic_constraints.add(name='quad_eq', lin_expr=SparsePair(['x', 'y'], [1, 1]), quad_expr=SparseTriple(['x', 'y', 'z'], ['x', 'z', 'z'], [1, -1, 2]), sense='E', rhs=1)\n",
    "mod.quadratic_constraints.add(name='quad_leq', lin_expr=SparsePair(['x', 'y'], [1, 1]), quad_expr=SparseTriple(['x', 'y', 'z'], ['x', 'z', 'z'], [1, -1, 2]), sense='L', rhs=1)\n",
    "mod.quadratic_constraints.add(name='quad_geq', lin_expr=SparsePair(['x', 'y'], [1, 1]), quad_expr=SparseTriple(['x', 'y', 'z'], ['x', 'z', 'z'], [1, -1, 2]), sense='G', rhs=1)\n",
    "print(mod.write_as_string())"
   ]
  },
  {
   "cell_type": "markdown",
   "metadata": {},
   "source": [
    "You can find detailed information at [Qiskit Aqua API references](https://qiskit.org/documentation/apidoc/optimization/optimization.html).\n",
    "If you are interested in CPLEX API. See [CPLEX Python Reference Manual](https://www.ibm.com/support/knowledgecenter/SSSA5P_12.10.0/ilog.odms.cplex.help/refpythoncplex/html/help.html)."
   ]
  },
  {
   "cell_type": "markdown",
   "metadata": {},
   "source": [
    "You can substitue some of variables with constants or other variables.\n",
    "More precicely, `QuadraticProgram` has a method `substitute_variables(constants=..., variables=...)` to deal with the following two cases.\n",
    "- $x \\leftarrow c$: when `constants` have a list of `SparsePair`, `SparsePair.ind` and `SparsePair.val` correspond to $x$ and $c$, respectively. \n",
    "- $x \\leftarrow c y$: when `variables` have a list of `SparseTriples`, `SparseTriple.ind1`, `SparseTriple.ind2`, and `SparseTriple.val` correspond to $x$, $y$, and $c$, respectively.\n"
   ]
  },
  {
   "cell_type": "code",
   "execution_count": 12,
   "metadata": {},
   "outputs": [
    {
     "name": "stdout",
     "output_type": "stream",
     "text": [
      "status SubstitutionStatus.success\n",
      "\\ENCODING=ISO-8859-1\n",
      "\\Problem name: my problem\n",
      "\n",
      "Minimize\n",
      " obj1: 11 z + [ 2 z ^2 ] / 2\n",
      "Subject To\n",
      " lin_eq:  - 2 z  = 1\n",
      " lin_leq: - 2 z <= 1\n",
      " lin_geq: - 2 z >= 1\n",
      " quad_eq:  - z + [ 3 z ^2 ]  = 1\n",
      " quad_leq: - z + [ 3 z ^2 ] <= 1\n",
      " quad_geq: - z + [ 3 z ^2 ] >= 1\n",
      "Bounds\n",
      "-1 <= z <= 1\n",
      "End\n",
      "\n"
     ]
    }
   ],
   "source": [
    "sub, status = mod.substitute_variables(constants=SparsePair(['x'], [0]), variables=SparseTriple(['y'], ['z'], [-1]))\n",
    "print('status', status)\n",
    "print(sub.write_as_string())"
   ]
  },
  {
   "cell_type": "markdown",
   "metadata": {},
   "source": [
    "If the resulting problem is infeasible due to lower bounds or upper bounds, the methods returns the status `SubstitutionStatus.infeasible`.\n",
    "We try to replace variable `x` with -1, but -1 is out of range of `x` (0 <= `x` <= 1). So, it returns `SubstitutionStatus.infeasible`."
   ]
  },
  {
   "cell_type": "code",
   "execution_count": 13,
   "metadata": {},
   "outputs": [
    {
     "name": "stderr",
     "output_type": "stream",
     "text": [
      "Infeasible substitution for variable: x\n"
     ]
    },
    {
     "name": "stdout",
     "output_type": "stream",
     "text": [
      "status SubstitutionStatus.infeasible\n"
     ]
    }
   ],
   "source": [
    "sub, status = mod.substitute_variables(constants=SparsePair(ind=['x'], val=[-1]))\n",
    "print('status', status)"
   ]
  },
  {
   "cell_type": "code",
   "execution_count": null,
   "metadata": {},
   "outputs": [],
   "source": []
  }
 ],
 "metadata": {
  "kernelspec": {
   "display_name": "Python 3",
   "language": "python",
   "name": "python3"
  },
  "language_info": {
   "codemirror_mode": {
    "name": "ipython",
    "version": 3
   },
   "file_extension": ".py",
   "mimetype": "text/x-python",
   "name": "python",
   "nbconvert_exporter": "python",
   "pygments_lexer": "ipython3",
   "version": "3.7.5"
  }
 },
 "nbformat": 4,
 "nbformat_minor": 4
}
