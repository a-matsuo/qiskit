{
 "cells": [
  {
   "cell_type": "markdown",
   "metadata": {},
   "source": [
    "# Qiskit Optimization\n",
    "The latest version of this notebook is available on https://github.com/Qiskit/qiskit-iqx-tutorials."
   ]
  },
  {
   "cell_type": "markdown",
   "metadata": {},
   "source": [
    "TODO: Introduction"
   ]
  },
  {
   "cell_type": "markdown",
   "metadata": {},
   "source": [
    "## Table of Content"
   ]
  },
  {
   "cell_type": "markdown",
   "metadata": {},
   "source": [
    "1. <b>[Optimization Problems](1_optimization_problems.ipynb)</b><br>Representation and Conversion of Quadratic Programs.<br><br>\n",
    "2. <b>[Minimum Eigen Optimizer](2_minimum_eigen_optimizer.ipynb)</b><br>Ising Hamiltonian-based Optimization Algorithms.<br><br>\n",
    "3. <b>[Recursive Minimum Eigen Optimizer](3_recursive_minimum_eigen_optimizer.ipynb)</b><br>Improving Minimum Eigen Optimizers by Recursive Optimization.<br><br>\n",
    "4. <b>[Grover Optimizer](4_grover_optimizer.ipynb)</b><br>Quadratic Speed-up via Grover Search-based Optimization.<br><br>\n",
    "5. <b>[ADMM Optimizer](5_admm_optimizer.ipynb)</b><br>Combining classical and quantum optimization to solve Mixed Integer Programs."
   ]
  },
  {
   "cell_type": "markdown",
   "metadata": {},
   "source": [
    "TODO: Figure with Stack Overview"
   ]
  },
  {
   "cell_type": "code",
   "execution_count": null,
   "metadata": {},
   "outputs": [],
   "source": []
  }
 ],
 "metadata": {
  "kernelspec": {
   "display_name": "Python 3",
   "language": "python",
   "name": "python3"
  },
  "language_info": {
   "codemirror_mode": {
    "name": "ipython",
    "version": 3
   },
   "file_extension": ".py",
   "mimetype": "text/x-python",
   "name": "python",
   "nbconvert_exporter": "python",
   "pygments_lexer": "ipython3",
   "version": "3.7.4"
  }
 },
 "nbformat": 4,
 "nbformat_minor": 2
}
